{
 "cells": [
  {
   "cell_type": "markdown",
   "metadata": {},
   "source": [
    "1. Install and Import Dependencies"
   ]
  },
  {
   "cell_type": "code",
   "execution_count": 2,
   "metadata": {},
   "outputs": [
    {
     "name": "stdout",
     "output_type": "stream",
     "text": [
      "Defaulting to user installation because normal site-packages is not writeable\n",
      "Collecting transformers\n",
      "  Using cached transformers-4.42.3-py3-none-any.whl (9.3 MB)\n",
      "Requirement already satisfied: requests in c:\\users\\user\\appdata\\roaming\\python\\python311\\site-packages (2.32.3)\n",
      "Requirement already satisfied: beautifulsoup4 in c:\\users\\user\\appdata\\roaming\\python\\python311\\site-packages (4.12.3)\n",
      "Requirement already satisfied: pandas in c:\\users\\user\\appdata\\roaming\\python\\python311\\site-packages (2.2.2)\n",
      "Requirement already satisfied: numpy in c:\\users\\user\\appdata\\roaming\\python\\python311\\site-packages (1.26.4)\n",
      "Requirement already satisfied: filelock in c:\\users\\user\\appdata\\roaming\\python\\python311\\site-packages (from transformers) (3.13.1)\n",
      "Collecting huggingface-hub<1.0,>=0.23.2\n",
      "  Downloading huggingface_hub-0.23.4-py3-none-any.whl (402 kB)\n",
      "     -------------------------------------- 402.6/402.6 kB 1.0 MB/s eta 0:00:00\n",
      "Requirement already satisfied: packaging>=20.0 in c:\\users\\user\\appdata\\roaming\\python\\python311\\site-packages (from transformers) (24.1)\n",
      "Requirement already satisfied: pyyaml>=5.1 in c:\\users\\user\\appdata\\roaming\\python\\python311\\site-packages (from transformers) (6.0.1)\n",
      "Collecting regex!=2019.12.17\n",
      "  Downloading regex-2024.5.15-cp311-cp311-win_amd64.whl (268 kB)\n",
      "     -------------------------------------- 269.0/269.0 kB 2.8 MB/s eta 0:00:00\n",
      "Collecting safetensors>=0.4.1\n",
      "  Downloading safetensors-0.4.3-cp311-none-win_amd64.whl (287 kB)\n",
      "     ------------------------------------- 287.3/287.3 kB 17.3 MB/s eta 0:00:00\n",
      "Collecting tokenizers<0.20,>=0.19\n",
      "  Downloading tokenizers-0.19.1-cp311-none-win_amd64.whl (2.2 MB)\n",
      "     ---------------------------------------- 2.2/2.2 MB 2.1 MB/s eta 0:00:00\n",
      "Requirement already satisfied: tqdm>=4.27 in c:\\users\\user\\appdata\\roaming\\python\\python311\\site-packages (from transformers) (4.66.4)\n",
      "Requirement already satisfied: charset-normalizer<4,>=2 in c:\\users\\user\\appdata\\roaming\\python\\python311\\site-packages (from requests) (3.3.2)\n",
      "Requirement already satisfied: idna<4,>=2.5 in c:\\users\\user\\appdata\\roaming\\python\\python311\\site-packages (from requests) (3.7)\n",
      "Requirement already satisfied: urllib3<3,>=1.21.1 in c:\\users\\user\\appdata\\roaming\\python\\python311\\site-packages (from requests) (2.2.1)\n",
      "Requirement already satisfied: certifi>=2017.4.17 in c:\\users\\user\\appdata\\roaming\\python\\python311\\site-packages (from requests) (2024.6.2)\n",
      "Requirement already satisfied: soupsieve>1.2 in c:\\users\\user\\appdata\\roaming\\python\\python311\\site-packages (from beautifulsoup4) (2.5)\n",
      "Requirement already satisfied: python-dateutil>=2.8.2 in c:\\users\\user\\appdata\\roaming\\python\\python311\\site-packages (from pandas) (2.9.0.post0)\n",
      "Requirement already satisfied: pytz>=2020.1 in c:\\users\\user\\appdata\\roaming\\python\\python311\\site-packages (from pandas) (2024.1)\n",
      "Requirement already satisfied: tzdata>=2022.7 in c:\\users\\user\\appdata\\roaming\\python\\python311\\site-packages (from pandas) (2024.1)\n",
      "Requirement already satisfied: fsspec>=2023.5.0 in c:\\users\\user\\appdata\\roaming\\python\\python311\\site-packages (from huggingface-hub<1.0,>=0.23.2->transformers) (2024.2.0)\n",
      "Requirement already satisfied: typing-extensions>=3.7.4.3 in c:\\users\\user\\appdata\\roaming\\python\\python311\\site-packages (from huggingface-hub<1.0,>=0.23.2->transformers) (4.12.2)\n",
      "Requirement already satisfied: six>=1.5 in c:\\users\\user\\appdata\\roaming\\python\\python311\\site-packages (from python-dateutil>=2.8.2->pandas) (1.16.0)\n",
      "Requirement already satisfied: colorama in c:\\users\\user\\appdata\\roaming\\python\\python311\\site-packages (from tqdm>=4.27->transformers) (0.4.6)\n",
      "Installing collected packages: safetensors, regex, huggingface-hub, tokenizers, transformers\n",
      "Successfully installed huggingface-hub-0.23.4 regex-2024.5.15 safetensors-0.4.3 tokenizers-0.19.1 transformers-4.42.3\n"
     ]
    },
    {
     "name": "stderr",
     "output_type": "stream",
     "text": [
      "WARNING: There was an error checking the latest version of pip.\n"
     ]
    }
   ],
   "source": [
    "!pip install transformers requests beautifulsoup4 pandas numpy"
   ]
  },
  {
   "cell_type": "code",
   "execution_count": 1,
   "metadata": {},
   "outputs": [],
   "source": [
    "from transformers import AutoTokenizer, AutoModelForSequenceClassification\n",
    "import torch\n",
    "import requests\n",
    "from bs4  import BeautifulSoup\n",
    "import re"
   ]
  },
  {
   "cell_type": "markdown",
   "metadata": {},
   "source": [
    "2. Instantiate Model"
   ]
  },
  {
   "cell_type": "code",
   "execution_count": 2,
   "metadata": {},
   "outputs": [],
   "source": [
    "tokenizer=AutoTokenizer.from_pretrained('nlptown/bert-base-multilingual-uncased-sentiment')\n",
    "model=AutoModelForSequenceClassification.from_pretrained('nlptown/bert-base-multilingual-uncased-sentiment')"
   ]
  },
  {
   "cell_type": "markdown",
   "metadata": {},
   "source": [
    "3. Encode and Calculate Sentiment"
   ]
  },
  {
   "cell_type": "code",
   "execution_count": 4,
   "metadata": {},
   "outputs": [],
   "source": [
    "tokens=tokenizer.encode(\"This is very bad, there still might be a chance\",return_tensors='pt')\n"
   ]
  },
  {
   "cell_type": "code",
   "execution_count": 5,
   "metadata": {},
   "outputs": [],
   "source": [
    "results=model(tokens)"
   ]
  },
  {
   "cell_type": "code",
   "execution_count": 6,
   "metadata": {},
   "outputs": [
    {
     "data": {
      "text/plain": [
       "SequenceClassifierOutput(loss=None, logits=tensor([[ 3.0261,  2.2586,  0.7360, -1.9903, -3.2110]],\n",
       "       grad_fn=<AddmmBackward0>), hidden_states=None, attentions=None)"
      ]
     },
     "execution_count": 6,
     "metadata": {},
     "output_type": "execute_result"
    }
   ],
   "source": [
    "results\n",
    "#The values we need to look for is the logits=tensor(...) where it contains 5 (0 to 4) values. These values represent the rating system from 1 to 5 (0 to 4) and the largest value will be the correct rating."
   ]
  },
  {
   "cell_type": "code",
   "execution_count": 7,
   "metadata": {},
   "outputs": [
    {
     "data": {
      "text/plain": [
       "tensor([[ 3.0261,  2.2586,  0.7360, -1.9903, -3.2110]],\n",
       "       grad_fn=<AddmmBackward0>)"
      ]
     },
     "execution_count": 7,
     "metadata": {},
     "output_type": "execute_result"
    }
   ],
   "source": [
    "results.logits"
   ]
  },
  {
   "cell_type": "code",
   "execution_count": 8,
   "metadata": {},
   "outputs": [
    {
     "data": {
      "text/plain": [
       "1"
      ]
     },
     "execution_count": 8,
     "metadata": {},
     "output_type": "execute_result"
    }
   ],
   "source": [
    "int(torch.argmax(results.logits))+1\n",
    "# here the rating is 1 being the worst and 5 being the best"
   ]
  },
  {
   "cell_type": "markdown",
   "metadata": {},
   "source": [
    "4. Collect Reviews"
   ]
  },
  {
   "cell_type": "code",
   "execution_count": 9,
   "metadata": {},
   "outputs": [],
   "source": [
    "r=requests.get('https://www.yelp.com/biz/mejico-sydney-2')\n",
    "soup=BeautifulSoup(r.text,'html.parser')\n",
    "regex=re.compile(\".*comment.*\")\n",
    "results=soup.find_all('p',{'class':regex})\n",
    "reviews=[result.text for result in results]"
   ]
  },
  {
   "cell_type": "code",
   "execution_count": 10,
   "metadata": {},
   "outputs": [
    {
     "data": {
      "text/plain": [
       "[<p class=\"comment__09f24__D0cxf y-css-h9c2fl\"><span class=\"raw__09f24__T4Ezm\" lang=\"en\">Seated without a booking on a super busy Saturday night. Lovely, warm, and Theo right hostess also looked after our table and went out of her way to give detailed ingredients in every dish to avoid allergies for one of us. And the food was great! Guacamole made right at our table, everything prepared with our allergies in mind, and great dish recommendations. We'd been visiting Sydney for about a week from Melbourne, and this was by far our best dining experience. I'd definitely return here in the future.</span></p>,\n",
       " <p class=\"comment__09f24__D0cxf y-css-h9c2fl\"><span class=\"raw__09f24__T4Ezm\" lang=\"en\">The food was decent not great..  We had the guacamole which was bland and came with some type of plantain chips.. The chicken and steak tacos were good.. But the service was poor. We had a waitress with an attitude. She seemed upset whenever we asked for anything.  She would walk by and just stick up her hand and say \" just wait \".  She spilled the ingredients to make the guacamole all over the table but never apologized. The waitress didn't come by at all, not even once to check on us.. I will not go back. Suggest you find a Mexican restaurant that really wants your business..</span></p>,\n",
       " <p class=\"comment__09f24__D0cxf y-css-h9c2fl\"><span class=\"raw__09f24__T4Ezm\" lang=\"en\">Food was okay, guacamole was below average. Service was awful. Waitress acted like she was missing the Finals in The Australian Open. In such a hurry she spilled the fixings for the less than average guac. Took less than a minute to take our order but it wasn't fast enough for her. Felt like we were intruding on her screen time. The food was fair. Prices were way too high for the level of mediocrity in the food. Average food, lousy service Wouldn't recommend this place</span></p>,\n",
       " <p class=\"comment__09f24__D0cxf y-css-h9c2fl\"><span class=\"raw__09f24__T4Ezm\" lang=\"en\">The food and service here was really good.  It was more like tapas food than Mexican food!  The drinks were amazing too!</span></p>,\n",
       " <p class=\"comment__09f24__D0cxf y-css-h9c2fl\"><span class=\"raw__09f24__T4Ezm\" lang=\"en\">Visiting from Texas and decided to give this restaurant a try.  We were pleasantly surprised.  While the margaritas are more like martinis, the food was excellent.  More like a tapas, Mexican fusion.  Great way to try different plates.<br/>The real treat was Chelsea, our waitress.  Took the time to explain the menu and offer suggestions.  Always smiling and very pleasant.  Best service we have had in Sydney!</span></p>,\n",
       " <p class=\"comment__09f24__D0cxf y-css-h9c2fl\"><span class=\"raw__09f24__T4Ezm\" lang=\"en\">Don't come here expecting legit Mexican food but a modern twist on some staples. Loud party area, fun drinks and friendly staff make this a hip meeting area for large groups. Drinks were better than the food. <br/><br/>They stuff the families toward the back but lack any amenities (no changing table) except a high chair. <br/><br/>Service started off friendly but it took a while to get someone to take our order and then they forgot our dish which came out cold when we asked for it. Then we had to flag someone down to pay the bill. <br/><br/>The watermelon salad was tasty but not complex, tossed with a few cucumbers and pistachios. The corn lollipops with spicy mayo sauce were probably the best dish. The beef empanadas were cold and average though the salsa was an interesting pickled onion. Definitely skip the octopus dish- it was dry, over cooked and lacked flavor though the presentation looked promising. It came with squares of polenta and dallops of potato mash with a dramatic squid ink streak across the dish but no interesting flavors stood out. All those dishes and still left hungry. <br/><br/>The Guadalajara passion fruit drink was easy to sip and not too strong. The beer was average. <br/><br/>This is more of a spot to grab some mixed cocktails and a few snacks but not meal worthy.</span></p>,\n",
       " <p class=\"comment__09f24__D0cxf y-css-h9c2fl\"><span class=\"raw__09f24__T4Ezm\" lang=\"en\">Out of all the restaurants that I tried in Sydney, this was definitely the most reasonably priced one offering good food of course. We started off with Margarita's - they have $10 margaritas on Mondays (or perhaps all weekdays). We lost count of how many we had, they were so good. <br/><br/>On to the food, we tried a little bit of everything - we ordered corn lollipops, jalapeño poppers, grilled halloumi, batata bravas to start and we shared 2 items from the grill which I can't remember (probably because of the margarita's). We ended with churros &amp; chocolate sauce which was awesome. <br/><br/>Service was good and the staff waiting us was very friendly. He also recommended us portions for certain items to match our party size. For instance, we didn't have to order 2 portions of an appetizer instead we could order one and a half portion which I think was great. It allowed us to chose more dishes than more quantity of the same dish.</span></p>,\n",
       " <p class=\"comment__09f24__D0cxf y-css-h9c2fl\"><span class=\"raw__09f24__T4Ezm\" lang=\"en\">Great atmosphere, attentive service, solid margs, and a Tasty menu. The Brisket Tacos were substantial and delicious. The corn ribs???  Fawgetaboutit!  Unreal.  Wanted to order another plate.</span></p>,\n",
       " <p class=\"comment__09f24__D0cxf y-css-h9c2fl\"><span class=\"raw__09f24__T4Ezm\" lang=\"en\">We came here on a Thursday night @ 5pm and by 6pm the place was packed. A lovely big restaurant with a bar at the front (which is a bit awkward to try and push past everyone to get to your table). Friendly, helpful staff which is always a good start. <br/><br/>The menu is large so we went with the \"feed me\" selection. All you need to do is sit back and let the chef feed you. As the other reviewers have stated the corn is a highlight and the pulled pork tacos, the sangria wasn't bad either.<br/><br/>Loved the Mexican tapas style food and will be back.</span></p>,\n",
       " <p class=\"comment__09f24__D0cxf y-css-h9c2fl\"><span class=\"raw__09f24__T4Ezm\" lang=\"en\">The food is fresh and tasty.  The scallop ceviche started the lunch. The scallops were tender with a great acidity and use of mango and peppers. The steak was tender and I got the hint of tequila in the sauce. I enjoyed a watermelon salad that complimented the the steak. The portions are good, but a stretch if you are sharing. My only down point is the service. They really only showed up to present my next plate and never checked to see if I wanted another drink (which I did).<br/><br/>Enjoyed the food.</span></p>]"
      ]
     },
     "execution_count": 10,
     "metadata": {},
     "output_type": "execute_result"
    }
   ],
   "source": [
    "results"
   ]
  },
  {
   "cell_type": "code",
   "execution_count": 11,
   "metadata": {},
   "outputs": [
    {
     "data": {
      "text/plain": [
       "<p class=\"comment__09f24__D0cxf y-css-h9c2fl\"><span class=\"raw__09f24__T4Ezm\" lang=\"en\">Seated without a booking on a super busy Saturday night. Lovely, warm, and Theo right hostess also looked after our table and went out of her way to give detailed ingredients in every dish to avoid allergies for one of us. And the food was great! Guacamole made right at our table, everything prepared with our allergies in mind, and great dish recommendations. We'd been visiting Sydney for about a week from Melbourne, and this was by far our best dining experience. I'd definitely return here in the future.</span></p>"
      ]
     },
     "execution_count": 11,
     "metadata": {},
     "output_type": "execute_result"
    }
   ],
   "source": [
    "results[0]"
   ]
  },
  {
   "cell_type": "markdown",
   "metadata": {},
   "source": [
    "5. Load Reviews into Dataframe and Score"
   ]
  },
  {
   "cell_type": "code",
   "execution_count": 12,
   "metadata": {},
   "outputs": [],
   "source": [
    "import numpy as np\n",
    "import pandas as pd"
   ]
  },
  {
   "cell_type": "code",
   "execution_count": 13,
   "metadata": {},
   "outputs": [],
   "source": [
    "df=pd.DataFrame(np.array(reviews),columns=['review'])"
   ]
  },
  {
   "cell_type": "code",
   "execution_count": 18,
   "metadata": {},
   "outputs": [
    {
     "data": {
      "text/html": [
       "<div>\n",
       "<style scoped>\n",
       "    .dataframe tbody tr th:only-of-type {\n",
       "        vertical-align: middle;\n",
       "    }\n",
       "\n",
       "    .dataframe tbody tr th {\n",
       "        vertical-align: top;\n",
       "    }\n",
       "\n",
       "    .dataframe thead th {\n",
       "        text-align: right;\n",
       "    }\n",
       "</style>\n",
       "<table border=\"1\" class=\"dataframe\">\n",
       "  <thead>\n",
       "    <tr style=\"text-align: right;\">\n",
       "      <th></th>\n",
       "      <th>review</th>\n",
       "    </tr>\n",
       "  </thead>\n",
       "  <tbody>\n",
       "    <tr>\n",
       "      <th>0</th>\n",
       "      <td>Seated without a booking on a super busy Satur...</td>\n",
       "    </tr>\n",
       "    <tr>\n",
       "      <th>1</th>\n",
       "      <td>The food was decent not great..  We had the gu...</td>\n",
       "    </tr>\n",
       "    <tr>\n",
       "      <th>2</th>\n",
       "      <td>Food was okay, guacamole was below average. Se...</td>\n",
       "    </tr>\n",
       "    <tr>\n",
       "      <th>3</th>\n",
       "      <td>The food and service here was really good.  It...</td>\n",
       "    </tr>\n",
       "    <tr>\n",
       "      <th>4</th>\n",
       "      <td>Visiting from Texas and decided to give this r...</td>\n",
       "    </tr>\n",
       "  </tbody>\n",
       "</table>\n",
       "</div>"
      ],
      "text/plain": [
       "                                              review\n",
       "0  Seated without a booking on a super busy Satur...\n",
       "1  The food was decent not great..  We had the gu...\n",
       "2  Food was okay, guacamole was below average. Se...\n",
       "3  The food and service here was really good.  It...\n",
       "4  Visiting from Texas and decided to give this r..."
      ]
     },
     "execution_count": 18,
     "metadata": {},
     "output_type": "execute_result"
    }
   ],
   "source": [
    "df.head()"
   ]
  },
  {
   "cell_type": "code",
   "execution_count": 19,
   "metadata": {},
   "outputs": [
    {
     "data": {
      "text/html": [
       "<div>\n",
       "<style scoped>\n",
       "    .dataframe tbody tr th:only-of-type {\n",
       "        vertical-align: middle;\n",
       "    }\n",
       "\n",
       "    .dataframe tbody tr th {\n",
       "        vertical-align: top;\n",
       "    }\n",
       "\n",
       "    .dataframe thead th {\n",
       "        text-align: right;\n",
       "    }\n",
       "</style>\n",
       "<table border=\"1\" class=\"dataframe\">\n",
       "  <thead>\n",
       "    <tr style=\"text-align: right;\">\n",
       "      <th></th>\n",
       "      <th>review</th>\n",
       "    </tr>\n",
       "  </thead>\n",
       "  <tbody>\n",
       "    <tr>\n",
       "      <th>5</th>\n",
       "      <td>Don't come here expecting legit Mexican food b...</td>\n",
       "    </tr>\n",
       "    <tr>\n",
       "      <th>6</th>\n",
       "      <td>Out of all the restaurants that I tried in Syd...</td>\n",
       "    </tr>\n",
       "    <tr>\n",
       "      <th>7</th>\n",
       "      <td>Great atmosphere, attentive service, solid mar...</td>\n",
       "    </tr>\n",
       "    <tr>\n",
       "      <th>8</th>\n",
       "      <td>We came here on a Thursday night @ 5pm and by ...</td>\n",
       "    </tr>\n",
       "    <tr>\n",
       "      <th>9</th>\n",
       "      <td>The food is fresh and tasty.  The scallop cevi...</td>\n",
       "    </tr>\n",
       "  </tbody>\n",
       "</table>\n",
       "</div>"
      ],
      "text/plain": [
       "                                              review\n",
       "5  Don't come here expecting legit Mexican food b...\n",
       "6  Out of all the restaurants that I tried in Syd...\n",
       "7  Great atmosphere, attentive service, solid mar...\n",
       "8  We came here on a Thursday night @ 5pm and by ...\n",
       "9  The food is fresh and tasty.  The scallop cevi..."
      ]
     },
     "execution_count": 19,
     "metadata": {},
     "output_type": "execute_result"
    }
   ],
   "source": [
    "df.tail()"
   ]
  },
  {
   "cell_type": "code",
   "execution_count": 23,
   "metadata": {},
   "outputs": [
    {
     "data": {
      "text/plain": [
       "0    Seated without a booking on a super busy Satur...\n",
       "1    The food was decent not great..  We had the gu...\n",
       "2    Food was okay, guacamole was below average. Se...\n",
       "3    The food and service here was really good.  It...\n",
       "4    Visiting from Texas and decided to give this r...\n",
       "5    Don't come here expecting legit Mexican food b...\n",
       "6    Out of all the restaurants that I tried in Syd...\n",
       "7    Great atmosphere, attentive service, solid mar...\n",
       "8    We came here on a Thursday night @ 5pm and by ...\n",
       "9    The food is fresh and tasty.  The scallop cevi...\n",
       "Name: review, dtype: object"
      ]
     },
     "execution_count": 23,
     "metadata": {},
     "output_type": "execute_result"
    }
   ],
   "source": [
    "df['review']"
   ]
  },
  {
   "cell_type": "code",
   "execution_count": 14,
   "metadata": {},
   "outputs": [
    {
     "data": {
      "text/plain": [
       "\"Seated without a booking on a super busy Saturday night. Lovely, warm, and Theo right hostess also looked after our table and went out of her way to give detailed ingredients in every dish to avoid allergies for one of us. And the food was great! Guacamole made right at our table, everything prepared with our allergies in mind, and great dish recommendations. We'd been visiting Sydney for about a week from Melbourne, and this was by far our best dining experience. I'd definitely return here in the future.\""
      ]
     },
     "execution_count": 14,
     "metadata": {},
     "output_type": "execute_result"
    }
   ],
   "source": [
    "df['review'].iloc[0]"
   ]
  },
  {
   "cell_type": "code",
   "execution_count": 15,
   "metadata": {},
   "outputs": [],
   "source": [
    "def sentiment_score(review):\n",
    "    tokens=tokenizer.encode(review,return_tensors='pt')\n",
    "    results=model(tokens)\n",
    "    return int(torch.argmax(results.logits))+1\n"
   ]
  },
  {
   "cell_type": "code",
   "execution_count": 20,
   "metadata": {},
   "outputs": [
    {
     "data": {
      "text/plain": [
       "5"
      ]
     },
     "execution_count": 20,
     "metadata": {},
     "output_type": "execute_result"
    }
   ],
   "source": [
    "sentiment_score(df['review'].iloc[3])"
   ]
  },
  {
   "cell_type": "code",
   "execution_count": 22,
   "metadata": {},
   "outputs": [
    {
     "data": {
      "text/plain": [
       "3"
      ]
     },
     "execution_count": 22,
     "metadata": {},
     "output_type": "execute_result"
    }
   ],
   "source": [
    "sentiment_score(df['review'].iloc[5])"
   ]
  },
  {
   "cell_type": "code",
   "execution_count": 24,
   "metadata": {},
   "outputs": [],
   "source": [
    "df['sentiment']=df['review'].apply(lambda x:sentiment_score(x[:512]))"
   ]
  },
  {
   "cell_type": "code",
   "execution_count": 25,
   "metadata": {},
   "outputs": [
    {
     "data": {
      "text/html": [
       "<div>\n",
       "<style scoped>\n",
       "    .dataframe tbody tr th:only-of-type {\n",
       "        vertical-align: middle;\n",
       "    }\n",
       "\n",
       "    .dataframe tbody tr th {\n",
       "        vertical-align: top;\n",
       "    }\n",
       "\n",
       "    .dataframe thead th {\n",
       "        text-align: right;\n",
       "    }\n",
       "</style>\n",
       "<table border=\"1\" class=\"dataframe\">\n",
       "  <thead>\n",
       "    <tr style=\"text-align: right;\">\n",
       "      <th></th>\n",
       "      <th>review</th>\n",
       "      <th>sentiment</th>\n",
       "    </tr>\n",
       "  </thead>\n",
       "  <tbody>\n",
       "    <tr>\n",
       "      <th>0</th>\n",
       "      <td>Seated without a booking on a super busy Satur...</td>\n",
       "      <td>5</td>\n",
       "    </tr>\n",
       "    <tr>\n",
       "      <th>1</th>\n",
       "      <td>The food was decent not great..  We had the gu...</td>\n",
       "      <td>2</td>\n",
       "    </tr>\n",
       "    <tr>\n",
       "      <th>2</th>\n",
       "      <td>Food was okay, guacamole was below average. Se...</td>\n",
       "      <td>2</td>\n",
       "    </tr>\n",
       "    <tr>\n",
       "      <th>3</th>\n",
       "      <td>The food and service here was really good.  It...</td>\n",
       "      <td>5</td>\n",
       "    </tr>\n",
       "    <tr>\n",
       "      <th>4</th>\n",
       "      <td>Visiting from Texas and decided to give this r...</td>\n",
       "      <td>5</td>\n",
       "    </tr>\n",
       "    <tr>\n",
       "      <th>5</th>\n",
       "      <td>Don't come here expecting legit Mexican food b...</td>\n",
       "      <td>3</td>\n",
       "    </tr>\n",
       "    <tr>\n",
       "      <th>6</th>\n",
       "      <td>Out of all the restaurants that I tried in Syd...</td>\n",
       "      <td>5</td>\n",
       "    </tr>\n",
       "    <tr>\n",
       "      <th>7</th>\n",
       "      <td>Great atmosphere, attentive service, solid mar...</td>\n",
       "      <td>3</td>\n",
       "    </tr>\n",
       "    <tr>\n",
       "      <th>8</th>\n",
       "      <td>We came here on a Thursday night @ 5pm and by ...</td>\n",
       "      <td>4</td>\n",
       "    </tr>\n",
       "    <tr>\n",
       "      <th>9</th>\n",
       "      <td>The food is fresh and tasty.  The scallop cevi...</td>\n",
       "      <td>4</td>\n",
       "    </tr>\n",
       "  </tbody>\n",
       "</table>\n",
       "</div>"
      ],
      "text/plain": [
       "                                              review  sentiment\n",
       "0  Seated without a booking on a super busy Satur...          5\n",
       "1  The food was decent not great..  We had the gu...          2\n",
       "2  Food was okay, guacamole was below average. Se...          2\n",
       "3  The food and service here was really good.  It...          5\n",
       "4  Visiting from Texas and decided to give this r...          5\n",
       "5  Don't come here expecting legit Mexican food b...          3\n",
       "6  Out of all the restaurants that I tried in Syd...          5\n",
       "7  Great atmosphere, attentive service, solid mar...          3\n",
       "8  We came here on a Thursday night @ 5pm and by ...          4\n",
       "9  The food is fresh and tasty.  The scallop cevi...          4"
      ]
     },
     "execution_count": 25,
     "metadata": {},
     "output_type": "execute_result"
    }
   ],
   "source": [
    "df"
   ]
  },
  {
   "cell_type": "markdown",
   "metadata": {},
   "source": [
    "6. Trying this in another business"
   ]
  },
  {
   "cell_type": "code",
   "execution_count": 27,
   "metadata": {},
   "outputs": [],
   "source": [
    "r=requests.get('https://www.yelp.com/biz/mejico-sydney-2')\n",
    "soup=BeautifulSoup(r.text,'html.parser')\n",
    "regex=re.compile(\".*comment.*\")\n",
    "results=soup.find_all('p',{'class':regex})\n",
    "reviews=[result.text for result in results]"
   ]
  },
  {
   "cell_type": "code",
   "execution_count": 28,
   "metadata": {},
   "outputs": [
    {
     "data": {
      "text/plain": [
       "[<p class=\"comment__09f24__D0cxf y-css-h9c2fl\"><span class=\"raw__09f24__T4Ezm\" lang=\"en\">Good Baklava's primarily because it's pistachio based meaning Turkish as opposed to walnuts meaning Greek. I like both but I'm partial to the Turkish ones because the Greek ones often swim in honey syrup and it's just  too much for me.</span></p>,\n",
       " <p class=\"comment__09f24__D0cxf y-css-h9c2fl\"><span class=\"raw__09f24__T4Ezm\" lang=\"en\">Ordered a beef kebab from here. The kebab was over stuffed with beef and tasted very good. I really liked the flavor of the bbq sauce. The only downside was the bread was a bit soggy from all the tomatoes and bbq sauce and was falling apart.  The service could also be a little friendlier. They weren't very happy answer questions about their food.  They also server other items like gozleme, pizza, and pide.</span></p>,\n",
       " <p class=\"comment__09f24__D0cxf y-css-h9c2fl\"><span class=\"raw__09f24__T4Ezm\" lang=\"en\">The Kebab here is the best. I love it. Having extra cheese and lamb are an add on. So delicious.</span></p>,\n",
       " <p class=\"comment__09f24__D0cxf y-css-h9c2fl\"><span class=\"raw__09f24__T4Ezm\" lang=\"en\">I discovered this food court while waiting to check into my hotel.  The first time I ate here I made a mistake and had McDonalds for breakfast....that was a big mistake. On another visit I checked out Enfes Kebabs...the food served here is Turkish...as I walked around there booth I knew I needed that Doner Kebab.<br/><br/>The guys working here are really helpful...almost too helpful...they are constantly trying to get you to order...I understand that they are in a food court and they are trying to land me on the hook like a hungry fish.  There booth is in the center of the food court, so they have a really amazing spot.<br/><br/>The Doner Pita is a like an American Gyro except really really good.  The meat here is real meat that is roasting on a fire spit, unlike in America where we have a giant piece of processed meat...yuck!!!<br/><br/>Whenever I come to Sydney for business I make sure to walk over to Darling Harbour to do a little shopping and to get some lunch here.  The food is really good.  There are other Turkish delights here but I am in love with the Doner and I am not willing to change.</span></p>,\n",
       " <p class=\"comment__09f24__D0cxf y-css-h9c2fl\"><span class=\"raw__09f24__T4Ezm\" lang=\"en\">What kind of food court exists without a decent kebab place? Enfes Kebabs is the one you'll find at Harbourside shopping centre, right at the Promenade entrance of Darling Harbour. They serve all the usual Turkish foods - beef, chicken kebabs, gozleme, falafel, salads, pide and pizza. The counter goes all the way around, so you can circle the options a few times before you make one. <br/><br/>It's fast, it's filling, the food is fair enough in price and quality. Anyway, it's better than having to order MacDonald's, KFC or Oporto every time.</span></p>,\n",
       " <p class=\"comment__09f24__D0cxf y-css-h9c2fl\"><span class=\"raw__09f24__T4Ezm\" lang=\"en\">This is gonna sound crazy. We went to Sydney is 2006 on our honeymoon. We found this place doing a walkabout. I love Mediterranean food but from Hawaii it all taste the same and it doesn't get too imaginative. WE DON\"T SEE THOSE TWIRLING SPITS OF MEATS!  Coming to this place was like heaven on earth. I think I got a lamb kebob roll. packed with meat and huge! not all bread! I gotta get back to this place.  My friends and I were talking about good Mediterranean food and this place gave me such good memories I had to look it up on Yelp and give a review albeit 12 yrs late! LOL</span></p>,\n",
       " <p class=\"comment__09f24__D0cxf y-css-h9c2fl\"><span class=\"raw__09f24__T4Ezm\" lang=\"en\">Found this place after a flight to Sydney and realising that the lock out laws pretty much force everything to close. It was honestly the best kebab I have ever eaten! Great value for money and the next time I find myself in Sydney I am coming straight back. There is no other place I would buy my kebabs from. The staff were super friendly and helpful. I only wish I bought some baklava as well, they looked great!</span></p>]"
      ]
     },
     "execution_count": 28,
     "metadata": {},
     "output_type": "execute_result"
    }
   ],
   "source": [
    "results"
   ]
  },
  {
   "cell_type": "code",
   "execution_count": 29,
   "metadata": {},
   "outputs": [],
   "source": [
    "df=pd.DataFrame(np.array(reviews),columns=['review'])"
   ]
  },
  {
   "cell_type": "code",
   "execution_count": 30,
   "metadata": {},
   "outputs": [
    {
     "data": {
      "text/plain": [
       "0    Good Baklava's primarily because it's pistachi...\n",
       "1    Ordered a beef kebab from here. The kebab was ...\n",
       "2    The Kebab here is the best. I love it. Having ...\n",
       "3    I discovered this food court while waiting to ...\n",
       "4    What kind of food court exists without a decen...\n",
       "5    This is gonna sound crazy. We went to Sydney i...\n",
       "6    Found this place after a flight to Sydney and ...\n",
       "Name: review, dtype: object"
      ]
     },
     "execution_count": 30,
     "metadata": {},
     "output_type": "execute_result"
    }
   ],
   "source": [
    "df['review']"
   ]
  },
  {
   "cell_type": "code",
   "execution_count": 31,
   "metadata": {},
   "outputs": [],
   "source": [
    "df['sentiment']=df['review'].apply(lambda x:sentiment_score(x[:512]))"
   ]
  },
  {
   "cell_type": "code",
   "execution_count": 32,
   "metadata": {},
   "outputs": [
    {
     "data": {
      "text/html": [
       "<div>\n",
       "<style scoped>\n",
       "    .dataframe tbody tr th:only-of-type {\n",
       "        vertical-align: middle;\n",
       "    }\n",
       "\n",
       "    .dataframe tbody tr th {\n",
       "        vertical-align: top;\n",
       "    }\n",
       "\n",
       "    .dataframe thead th {\n",
       "        text-align: right;\n",
       "    }\n",
       "</style>\n",
       "<table border=\"1\" class=\"dataframe\">\n",
       "  <thead>\n",
       "    <tr style=\"text-align: right;\">\n",
       "      <th></th>\n",
       "      <th>review</th>\n",
       "      <th>sentiment</th>\n",
       "    </tr>\n",
       "  </thead>\n",
       "  <tbody>\n",
       "    <tr>\n",
       "      <th>0</th>\n",
       "      <td>Good Baklava's primarily because it's pistachi...</td>\n",
       "      <td>4</td>\n",
       "    </tr>\n",
       "    <tr>\n",
       "      <th>1</th>\n",
       "      <td>Ordered a beef kebab from here. The kebab was ...</td>\n",
       "      <td>4</td>\n",
       "    </tr>\n",
       "    <tr>\n",
       "      <th>2</th>\n",
       "      <td>The Kebab here is the best. I love it. Having ...</td>\n",
       "      <td>5</td>\n",
       "    </tr>\n",
       "    <tr>\n",
       "      <th>3</th>\n",
       "      <td>I discovered this food court while waiting to ...</td>\n",
       "      <td>2</td>\n",
       "    </tr>\n",
       "    <tr>\n",
       "      <th>4</th>\n",
       "      <td>What kind of food court exists without a decen...</td>\n",
       "      <td>4</td>\n",
       "    </tr>\n",
       "    <tr>\n",
       "      <th>5</th>\n",
       "      <td>This is gonna sound crazy. We went to Sydney i...</td>\n",
       "      <td>1</td>\n",
       "    </tr>\n",
       "    <tr>\n",
       "      <th>6</th>\n",
       "      <td>Found this place after a flight to Sydney and ...</td>\n",
       "      <td>5</td>\n",
       "    </tr>\n",
       "  </tbody>\n",
       "</table>\n",
       "</div>"
      ],
      "text/plain": [
       "                                              review  sentiment\n",
       "0  Good Baklava's primarily because it's pistachi...          4\n",
       "1  Ordered a beef kebab from here. The kebab was ...          4\n",
       "2  The Kebab here is the best. I love it. Having ...          5\n",
       "3  I discovered this food court while waiting to ...          2\n",
       "4  What kind of food court exists without a decen...          4\n",
       "5  This is gonna sound crazy. We went to Sydney i...          1\n",
       "6  Found this place after a flight to Sydney and ...          5"
      ]
     },
     "execution_count": 32,
     "metadata": {},
     "output_type": "execute_result"
    }
   ],
   "source": [
    "df"
   ]
  }
 ],
 "metadata": {
  "kernelspec": {
   "display_name": "Python 3",
   "language": "python",
   "name": "python3"
  },
  "language_info": {
   "codemirror_mode": {
    "name": "ipython",
    "version": 3
   },
   "file_extension": ".py",
   "mimetype": "text/x-python",
   "name": "python",
   "nbconvert_exporter": "python",
   "pygments_lexer": "ipython3",
   "version": "3.11.0"
  }
 },
 "nbformat": 4,
 "nbformat_minor": 2
}
